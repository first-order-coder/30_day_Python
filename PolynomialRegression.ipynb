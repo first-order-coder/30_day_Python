{
  "nbformat": 4,
  "nbformat_minor": 0,
  "metadata": {
    "colab": {
      "provenance": [],
      "authorship_tag": "ABX9TyPbCdKAjc8aSRPOGoYdHWqf",
      "include_colab_link": true
    },
    "kernelspec": {
      "name": "python3",
      "display_name": "Python 3"
    },
    "language_info": {
      "name": "python"
    }
  },
  "cells": [
    {
      "cell_type": "markdown",
      "metadata": {
        "id": "view-in-github",
        "colab_type": "text"
      },
      "source": [
        "<a href=\"https://colab.research.google.com/github/first-order-coder/30_day_Python/blob/main/PolynomialRegression.ipynb\" target=\"_parent\"><img src=\"https://colab.research.google.com/assets/colab-badge.svg\" alt=\"Open In Colab\"/></a>"
      ]
    },
    {
      "cell_type": "code",
      "execution_count": null,
      "metadata": {
        "id": "ANaScOMUJaGy"
      },
      "outputs": [],
      "source": [
        "import pandas as pd\n",
        "import numpy as np\n",
        "import matplotlib.pyplot as plt"
      ]
    },
    {
      "cell_type": "code",
      "source": [
        "df = pd.read_csv('Data.csv')\n",
        "X = df.iloc[:, :-1]\n",
        "y = df.iloc[:, -1].values.reshape(-1, 1)\n",
        "\n",
        "plt.plot(X, y)\n",
        "plt.show()"
      ],
      "metadata": {
        "id": "uwtBEAKKJlvz",
        "colab": {
          "base_uri": "https://localhost:8080/",
          "height": 430
        },
        "outputId": "1097903e-9528-4965-c4bc-bf8560eb1101"
      },
      "execution_count": null,
      "outputs": [
        {
          "output_type": "display_data",
          "data": {
            "text/plain": [
              "<Figure size 640x480 with 1 Axes>"
            ],
            "image/png": "[encoded data removed]"
          },
          "metadata": {}
        }
      ]
    },
    {
      "cell_type": "code",
      "source": [
        "from sklearn.model_selection import train_test_split\n",
        "X_train, X_test, y_train, y_test = train_test_split(X, y, test_size= 0.2, random_state=1)"
      ],
      "metadata": {
        "id": "74xueFsRR51w"
      },
      "execution_count": null,
      "outputs": []
    },
    {
      "cell_type": "code",
      "source": [
        "print(X_test.size)\n",
        "# plt.scatter(X_test, y_test, color='red')\n",
        "# plt.show()"
      ],
      "metadata": {
        "colab": {
          "base_uri": "https://localhost:8080/"
        },
        "id": "9L6XPvCEZd-N",
        "outputId": "1129c8f5-8607-4ca0-9d74-f9ccdc37e8ed"
      },
      "execution_count": null,
      "outputs": [
        {
          "output_type": "stream",
          "name": "stdout",
          "text": [
            "7656\n"
          ]
        }
      ]
    },
    {
      "cell_type": "code",
      "source": [
        "print(X_test.shape)\n",
        "print(y_test.shape)"
      ],
      "metadata": {
        "colab": {
          "base_uri": "https://localhost:8080/"
        },
        "id": "aOeFJCNnGLLd",
        "outputId": "1a75d20f-4450-4bf9-a3b4-460808bf6333"
      },
      "execution_count": null,
      "outputs": [
        {
          "output_type": "stream",
          "name": "stdout",
          "text": [
            "(1914, 4)\n",
            "(1914, 1)\n"
          ]
        }
      ]
    },
    {
      "cell_type": "code",
      "source": [
        "from sklearn.preprocessing import PolynomialFeatures\n",
        "from sklearn.linear_model import LinearRegression\n",
        "poly_reg = PolynomialFeatures(degree = 4)\n",
        "X_poly = poly_reg.fit_transform(X_train) #new feature X_poly which contains original feature + poly features up to degree 4\n",
        "regressor = LinearRegression()\n",
        "regressor.fit(X_poly, y_train)\n"
      ],
      "metadata": {
        "id": "UX3Oy_PaSVbZ"
      },
      "execution_count": null,
      "outputs": []
    },
    {
      "cell_type": "markdown",
      "source": [
        "so X_poly is the new set of features with over 70 features in total. So then we take X_poly and we train it on linearRegression model to find the most suitable coeffeicents of Regression euqation that best fit the poly data. So now regressor is trained and it knows the coefficetns for different features.\n",
        "\n",
        "Then we use it to predict the target variables."
      ],
      "metadata": {
        "id": "MtId5_Rydhw9"
      }
    },
    {
      "cell_type": "code",
      "source": [
        "# y_predict = regressor.predict(X_test) this will popup an error messageValueError: X has 4 features, but LinearRegression is expecting 70 features as input.\n",
        "y_predict = regressor.predict(poly_reg.transform(X_test)) # we are not fitting the model !!!!! we just transforming it according to previous trained model.\n",
        "print(y_predict)"
      ],
      "metadata": {
        "colab": {
          "base_uri": "https://localhost:8080/"
        },
        "id": "eEYXOS2odEiz",
        "outputId": "08a9ac81-62c3-4244-9914-e8b69d17c588"
      },
      "execution_count": null,
      "outputs": [
        {
          "output_type": "stream",
          "name": "stdout",
          "text": [
            "[[456.08167381]\n",
            " [462.80304251]\n",
            " [438.32645738]\n",
            " ...\n",
            " [476.31565646]\n",
            " [432.67953928]\n",
            " [464.55556308]]\n"
          ]
        }
      ]
    },
    {
      "cell_type": "markdown",
      "source": [
        "Then we do the accuracy test\n"
      ],
      "metadata": {
        "id": "A0h0A3wHhR-a"
      }
    },
    {
      "cell_type": "code",
      "source": [
        "np.set_printoptions(precision=2)\n",
        "print(np.concatenate((y_predict.reshape(-1, 1), y_test.reshape(-1, 1)), axis=1))"
      ],
      "metadata": {
        "colab": {
          "base_uri": "https://localhost:8080/"
        },
        "id": "VIAWAQfbdUgX",
        "outputId": "c1ef0e48-1b99-4b73-f981-aa60ce04d4cf"
      },
      "execution_count": null,
      "outputs": [
        {
          "output_type": "stream",
          "name": "stdout",
          "text": [
            "[[456.08 458.96]\n",
            " [462.8  463.29]\n",
            " [438.33 435.27]\n",
            " ...\n",
            " [476.32 476.22]\n",
            " [432.68 440.29]\n",
            " [464.56 467.92]]\n"
          ]
        }
      ]
    },
    {
      "cell_type": "markdown",
      "source": [
        "Evaluating Model Performance by using r2_score"
      ],
      "metadata": {
        "id": "tPrFZUZFix-V"
      }
    },
    {
      "cell_type": "code",
      "source": [
        "from sklearn.metrics import r2_score\n",
        "r2_score(y_predict, y_test)"
      ],
      "metadata": {
        "colab": {
          "base_uri": "https://localhost:8080/"
        },
        "id": "qdk3rq6fixLp",
        "outputId": "31d2a8df-d269-448e-da16-344014df46ec"
      },
      "execution_count": null,
      "outputs": [
        {
          "output_type": "execute_result",
          "data": {
            "text/plain": [
              "0.9406519757671481"
            ]
          },
          "metadata": {},
          "execution_count": 96
        }
      ]
    },
    {
      "cell_type": "code",
      "source": [
        "print(X_poly)\n",
        "# print(type(X_poly))\n",
        "# print(X_poly.shape)\n",
        "# print(y.shape)"
      ],
      "metadata": {
        "colab": {
          "base_uri": "https://localhost:8080/"
        },
        "id": "vcqxN9sVBAJS",
        "outputId": "0c1feedc-94ac-45d5-eac8-9548253c7e5d"
      },
      "execution_count": null,
      "outputs": [
        {
          "output_type": "stream",
          "name": "stdout",
          "text": [
            "[[1.00e+00 6.61e+00 3.89e+01 ... 8.79e+09 7.99e+08 7.26e+07]\n",
            " [1.00e+00 2.27e+01 6.56e+01 ... 5.12e+09 3.56e+08 2.47e+07]\n",
            " [1.00e+00 1.01e+01 3.96e+01 ... 5.11e+09 3.53e+08 2.43e+07]\n",
            " ...\n",
            " [1.00e+00 1.86e+01 3.95e+01 ... 4.79e+09 3.26e+08 2.22e+07]\n",
            " [1.00e+00 2.30e+01 4.50e+01 ... 2.65e+09 1.33e+08 6.66e+06]\n",
            " [1.00e+00 2.05e+01 4.97e+01 ... 5.11e+09 3.58e+08 2.51e+07]]\n"
          ]
        }
      ]
    },
    {
      "cell_type": "code",
      "source": [
        "x_vals = np.arange(min)\n",
        "plt.plot(X_train, regressor.predict(X_poly), color= 'blue')\n",
        "# plt.scatter(X_test, y_test, color='red')\n",
        "plt.show()"
      ],
      "metadata": {
        "id": "rQURZR3sFHFj"
      },
      "execution_count": null,
      "outputs": []
    },
    {
      "cell_type": "code",
      "source": [],
      "metadata": {
        "id": "1IVsejF5Uo45"
      },
      "execution_count": null,
      "outputs": []
    }
  ]
}