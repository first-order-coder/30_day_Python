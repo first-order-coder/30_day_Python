{
  "nbformat": 4,
  "nbformat_minor": 0,
  "metadata": {
    "colab": {
      "provenance": [],
      "authorship_tag": "ABX9TyNKiqgzUkt2gJ/Q3orpewSr",
      "include_colab_link": true
    },
    "kernelspec": {
      "name": "python3",
      "display_name": "Python 3"
    },
    "language_info": {
      "name": "python"
    }
  },
  "cells": [
    {
      "cell_type": "markdown",
      "metadata": {
        "id": "view-in-github",
        "colab_type": "text"
      },
      "source": [
        "<a href=\"https://colab.research.google.com/github/first-order-coder/ML_BASICS/blob/main/ML4.ipynb\" target=\"_parent\"><img src=\"https://colab.research.google.com/assets/colab-badge.svg\" alt=\"Open In Colab\"/></a>"
      ]
    },
    {
      "cell_type": "code",
      "execution_count": null,
      "metadata": {
        "id": "EkXNiINj1N88"
      },
      "outputs": [],
      "source": [
        "import pandas as pd\n",
        "import numpy as np\n",
        "import matplotlib.pyplot as plt"
      ]
    },
    {
      "cell_type": "code",
      "source": [
        "df = pd.read_csv('Position_Salaries.csv')\n",
        "X = df.iloc[:, 1:-1].values\n",
        "y = df.iloc[:, -1].values.reshape(-1, 1)\n",
        "\n"
      ],
      "metadata": {
        "id": "fWM899Lk1VPI"
      },
      "execution_count": null,
      "outputs": []
    },
    {
      "cell_type": "markdown",
      "source": [
        "Feature Scaling\n"
      ],
      "metadata": {
        "id": "wJKXkHUh1_lJ"
      }
    },
    {
      "cell_type": "markdown",
      "source": [
        "Why do we have to do feature scaling? because we dont want the values in feature X(levels 1-10) to be neglected by SVR model due to Depedent Variables(Y) being huge than feature(X) s values in value sizes."
      ],
      "metadata": {
        "id": "s5TVKyCA2zDJ"
      }
    },
    {
      "cell_type": "code",
      "source": [
        "from sklearn.preprocessing import StandardScaler\n",
        "sc_X = StandardScaler()\n",
        "sc_y = StandardScaler()\n",
        "X = sc_X.fit_transform(X)\n",
        "y = sc_y.fit_transform(y)"
      ],
      "metadata": {
        "id": "fa6gmSrj1zij"
      },
      "execution_count": null,
      "outputs": []
    },
    {
      "cell_type": "markdown",
      "source": [
        "Training SVR model"
      ],
      "metadata": {
        "id": "wBQQTAug2u1H"
      }
    },
    {
      "cell_type": "code",
      "source": [
        "from sklearn.svm import SVR\n",
        "regressor = SVR(kernel= 'rbf')\n",
        "regressor.fit(X, y)"
      ],
      "metadata": {
        "id": "V2QSr32m2mCg"
      },
      "execution_count": null,
      "outputs": []
    },
    {
      "cell_type": "markdown",
      "source": [
        "predicting the new result, but remember we need to input scaled value inside predict method always and also the output then will be a scaled y_predict, which will between -1 and +3 so we need to reverse the scaling of the prediction too."
      ],
      "metadata": {
        "id": "ABmpzL8LIxxp"
      }
    },
    {
      "cell_type": "code",
      "source": [
        "y_predict_scaled = regressor.predict(sc_X.transform([[6.5]]))"
      ],
      "metadata": {
        "id": "uFGmgr1mIoBT"
      },
      "execution_count": null,
      "outputs": []
    },
    {
      "cell_type": "markdown",
      "source": [
        "reversing to original scale and getting prediction"
      ],
      "metadata": {
        "id": "JBtbSZ2AKfsh"
      }
    },
    {
      "cell_type": "code",
      "source": [
        "reversed_scale = sc_y.inverse_transform(y_predict_scaled.reshape(-1, 1))\n",
        "print(reversed_scale)"
      ],
      "metadata": {
        "colab": {
          "base_uri": "https://localhost:8080/"
        },
        "id": "l9pem2vCJOz4",
        "outputId": "6b0f5745-9f26-4064-e611-2e130f529d4d"
      },
      "execution_count": null,
      "outputs": [
        {
          "output_type": "stream",
          "name": "stdout",
          "text": [
            "[[170370.0204065]]\n"
          ]
        }
      ]
    },
    {
      "cell_type": "code",
      "source": [
        "plt.scatter(sc_X.inverse_transform(X), sc_y.inverse_transform(y), color= 'red')\n",
        "plt.plot(sc_X.inverse_transform(X), sc_y.inverse_transform(regressor.predict(X).reshape(-1, 1)), color= 'blue')\n",
        "plt.show()"
      ],
      "metadata": {
        "id": "4vJcG4RMKWso"
      },
      "execution_count": null,
      "outputs": []
    },
    {
      "cell_type": "code",
      "source": [
        "sc_y.inverse_transform(regressor.predict(X).reshape(-1, 1))"
      ],
      "metadata": {
        "colab": {
          "base_uri": "https://localhost:8080/"
        },
        "id": "O12VlOcQL81i",
        "outputId": "a267959d-9665-4285-ad2f-c8be7e22287f"
      },
      "execution_count": null,
      "outputs": [
        {
          "output_type": "execute_result",
          "data": {
            "text/plain": [
              "array([[ 73474.15615697],\n",
              "       [ 70786.94584626],\n",
              "       [ 88213.00902103],\n",
              "       [108254.98574956],\n",
              "       [122574.52250599],\n",
              "       [145503.10688572],\n",
              "       [209410.23132923],\n",
              "       [330606.89204569],\n",
              "       [471671.95587315],\n",
              "       [557821.75899897]])"
            ]
          },
          "metadata": {},
          "execution_count": 21
        }
      ]
    },
    {
      "cell_type": "code",
      "source": [],
      "metadata": {
        "id": "ov7x5-vGMryr"
      },
      "execution_count": null,
      "outputs": []
    }
  ]
}