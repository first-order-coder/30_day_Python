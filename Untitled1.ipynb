{
  "nbformat": 4,
  "nbformat_minor": 0,
  "metadata": {
    "colab": {
      "provenance": [],
      "authorship_tag": "ABX9TyOI6A7VGi90oI218tRsIaQA",
      "include_colab_link": true
    },
    "kernelspec": {
      "name": "python3",
      "display_name": "Python 3"
    },
    "language_info": {
      "name": "python"
    }
  },
  "cells": [
    {
      "cell_type": "markdown",
      "metadata": {
        "id": "view-in-github",
        "colab_type": "text"
      },
      "source": [
        "<a href=\"https://colab.research.google.com/github/first-order-coder/ML_BASICS/blob/main/Untitled1.ipynb\" target=\"_parent\"><img src=\"https://colab.research.google.com/assets/colab-badge.svg\" alt=\"Open In Colab\"/></a>"
      ]
    },
    {
      "cell_type": "code",
      "execution_count": null,
      "metadata": {
        "id": "g9x2J6_XCQcV"
      },
      "outputs": [],
      "source": [
        "import numpy as np\n",
        "import pandas as pd\n",
        "import matplotlib.pyplot as plt\n",
        "import sklearn"
      ]
    },
    {
      "cell_type": "code",
      "source": [
        "df = pd.read_csv('Salary_Data.csv')\n",
        "X = df.iloc[:, :-1].values\n",
        "y = df.iloc[:, -1:].values\n",
        "print(y.shape)"
      ],
      "metadata": {
        "id": "JGDHV8j_EA9Y"
      },
      "execution_count": null,
      "outputs": []
    },
    {
      "cell_type": "code",
      "source": [
        "from sklearn.model_selection import train_test_split\n",
        "X_train, X_test, y_train, y_test = train_test_split(X, y, test_size=0.2, random_state= 1)"
      ],
      "metadata": {
        "id": "WqBDp3F9Ficm"
      },
      "execution_count": null,
      "outputs": []
    },
    {
      "cell_type": "code",
      "source": [
        "print(X_train)"
      ],
      "metadata": {
        "id": "2RkSgx08GL3M"
      },
      "execution_count": null,
      "outputs": []
    },
    {
      "cell_type": "code",
      "source": [
        "from sklearn.linear_model import LinearRegression\n",
        "\n",
        "regressor = LinearRegression()\n",
        "regressor.fit(X_train, y_train)"
      ],
      "metadata": {
        "id": "UUdcrga2ElqP"
      },
      "execution_count": null,
      "outputs": []
    },
    {
      "cell_type": "code",
      "source": [
        "y_predict = regressor.predict(X_test)\n",
        "print(np.concatenate((y_predict.reshape(-1,1), y_test.reshape(-1,1)),1))\n",
        "con = np.concatenate((y_predict, y_test), axis=1)\n",
        "print(con)"
      ],
      "metadata": {
        "id": "-8YWbqsFFewt",
        "colab": {
          "base_uri": "https://localhost:8080/"
        },
        "outputId": "74630ed5-6e1a-4873-959f-52bacc90f982"
      },
      "execution_count": null,
      "outputs": [
        {
          "output_type": "stream",
          "name": "stdout",
          "text": [
            "[[75074.50510972 83088.        ]\n",
            " [91873.8056381  98273.        ]\n",
            " [62008.38247653 63218.        ]\n",
            " [81607.56642631 93940.        ]\n",
            " [67608.14931932 61111.        ]\n",
            " [89073.92221671 91738.        ]]\n",
            "[[75074.50510972 83088.        ]\n",
            " [91873.8056381  98273.        ]\n",
            " [62008.38247653 63218.        ]\n",
            " [81607.56642631 93940.        ]\n",
            " [67608.14931932 61111.        ]\n",
            " [89073.92221671 91738.        ]]\n"
          ]
        }
      ]
    },
    {
      "cell_type": "code",
      "source": [],
      "metadata": {
        "id": "6jy5xQ4TIchr"
      },
      "execution_count": null,
      "outputs": []
    }
  ]
}